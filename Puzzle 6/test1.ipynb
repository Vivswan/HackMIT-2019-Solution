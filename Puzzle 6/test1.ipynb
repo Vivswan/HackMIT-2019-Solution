{
  "nbformat": 4,
  "nbformat_minor": 0,
  "metadata": {
    "colab": {
      "name": "test1.ipynb",
      "version": "0.3.2",
      "provenance": [],
      "collapsed_sections": []
    },
    "kernelspec": {
      "name": "python3",
      "display_name": "Python 3"
    },
    "accelerator": "GPU"
  },
  "cells": [
    {
      "cell_type": "code",
      "metadata": {
        "id": "CetUcEuwWthw",
        "colab_type": "code",
        "outputId": "d7b84145-9acb-4e13-acc8-22ac823c9c69",
        "colab": {
          "base_uri": "https://localhost:8080/",
          "height": 493
        }
      },
      "source": [
        "# Install TensorFlow\n",
        "!pip install tensorflow-gpu==2.0.0-beta1"
      ],
      "execution_count": 1,
      "outputs": [
        {
          "output_type": "stream",
          "text": [
            "Collecting tensorflow-gpu==2.0.0-beta1\n",
            "\u001b[?25l  Downloading https://files.pythonhosted.org/packages/2b/53/e18c5e7a2263d3581a979645a185804782e59b8e13f42b9c3c3cfb5bb503/tensorflow_gpu-2.0.0b1-cp36-cp36m-manylinux1_x86_64.whl (348.9MB)\n",
            "\u001b[K     |████████████████████████████████| 348.9MB 61kB/s \n",
            "\u001b[?25hRequirement already satisfied: wrapt>=1.11.1 in /usr/local/lib/python3.6/dist-packages (from tensorflow-gpu==2.0.0-beta1) (1.11.2)\n",
            "Requirement already satisfied: termcolor>=1.1.0 in /usr/local/lib/python3.6/dist-packages (from tensorflow-gpu==2.0.0-beta1) (1.1.0)\n",
            "Requirement already satisfied: grpcio>=1.8.6 in /usr/local/lib/python3.6/dist-packages (from tensorflow-gpu==2.0.0-beta1) (1.15.0)\n",
            "Requirement already satisfied: six>=1.10.0 in /usr/local/lib/python3.6/dist-packages (from tensorflow-gpu==2.0.0-beta1) (1.12.0)\n",
            "Requirement already satisfied: keras-applications>=1.0.6 in /usr/local/lib/python3.6/dist-packages (from tensorflow-gpu==2.0.0-beta1) (1.0.8)\n",
            "Requirement already satisfied: astor>=0.6.0 in /usr/local/lib/python3.6/dist-packages (from tensorflow-gpu==2.0.0-beta1) (0.8.0)\n",
            "Requirement already satisfied: protobuf>=3.6.1 in /usr/local/lib/python3.6/dist-packages (from tensorflow-gpu==2.0.0-beta1) (3.7.1)\n",
            "Requirement already satisfied: google-pasta>=0.1.6 in /usr/local/lib/python3.6/dist-packages (from tensorflow-gpu==2.0.0-beta1) (0.1.7)\n",
            "Collecting tf-estimator-nightly<1.14.0.dev2019060502,>=1.14.0.dev2019060501 (from tensorflow-gpu==2.0.0-beta1)\n",
            "\u001b[?25l  Downloading https://files.pythonhosted.org/packages/32/dd/99c47dd007dcf10d63fd895611b063732646f23059c618a373e85019eb0e/tf_estimator_nightly-1.14.0.dev2019060501-py2.py3-none-any.whl (496kB)\n",
            "\u001b[K     |████████████████████████████████| 501kB 45.6MB/s \n",
            "\u001b[?25hRequirement already satisfied: gast>=0.2.0 in /usr/local/lib/python3.6/dist-packages (from tensorflow-gpu==2.0.0-beta1) (0.2.2)\n",
            "Collecting tb-nightly<1.14.0a20190604,>=1.14.0a20190603 (from tensorflow-gpu==2.0.0-beta1)\n",
            "\u001b[?25l  Downloading https://files.pythonhosted.org/packages/a4/96/571b875cd81dda9d5dfa1422a4f9d749e67c0a8d4f4f0b33a4e5f5f35e27/tb_nightly-1.14.0a20190603-py3-none-any.whl (3.1MB)\n",
            "\u001b[K     |████████████████████████████████| 3.1MB 46.2MB/s \n",
            "\u001b[?25hRequirement already satisfied: wheel>=0.26 in /usr/local/lib/python3.6/dist-packages (from tensorflow-gpu==2.0.0-beta1) (0.33.4)\n",
            "Requirement already satisfied: numpy<2.0,>=1.14.5 in /usr/local/lib/python3.6/dist-packages (from tensorflow-gpu==2.0.0-beta1) (1.16.4)\n",
            "Requirement already satisfied: keras-preprocessing>=1.0.5 in /usr/local/lib/python3.6/dist-packages (from tensorflow-gpu==2.0.0-beta1) (1.1.0)\n",
            "Requirement already satisfied: absl-py>=0.7.0 in /usr/local/lib/python3.6/dist-packages (from tensorflow-gpu==2.0.0-beta1) (0.7.1)\n",
            "Requirement already satisfied: h5py in /usr/local/lib/python3.6/dist-packages (from keras-applications>=1.0.6->tensorflow-gpu==2.0.0-beta1) (2.8.0)\n",
            "Requirement already satisfied: setuptools in /usr/local/lib/python3.6/dist-packages (from protobuf>=3.6.1->tensorflow-gpu==2.0.0-beta1) (41.0.1)\n",
            "Requirement already satisfied: markdown>=2.6.8 in /usr/local/lib/python3.6/dist-packages (from tb-nightly<1.14.0a20190604,>=1.14.0a20190603->tensorflow-gpu==2.0.0-beta1) (3.1.1)\n",
            "Requirement already satisfied: werkzeug>=0.11.15 in /usr/local/lib/python3.6/dist-packages (from tb-nightly<1.14.0a20190604,>=1.14.0a20190603->tensorflow-gpu==2.0.0-beta1) (0.15.4)\n",
            "Installing collected packages: tf-estimator-nightly, tb-nightly, tensorflow-gpu\n",
            "Successfully installed tb-nightly-1.14.0a20190603 tensorflow-gpu-2.0.0b1 tf-estimator-nightly-1.14.0.dev2019060501\n"
          ],
          "name": "stdout"
        }
      ]
    },
    {
      "cell_type": "code",
      "metadata": {
        "colab_type": "code",
        "id": "0trJmd6DjqBZ",
        "colab": {}
      },
      "source": [
        "from __future__ import absolute_import, division, print_function, unicode_literals\n",
        "import tensorflow as tf\n",
        "import numpy as np"
      ],
      "execution_count": 0,
      "outputs": []
    },
    {
      "cell_type": "code",
      "metadata": {
        "colab_type": "code",
        "id": "7FP5258xjs-v",
        "colab": {
          "base_uri": "https://localhost:8080/",
          "height": 51
        },
        "outputId": "29335793-d24b-4c35-af45-036c61186785"
      },
      "source": [
        "# (x_train, y_train), (x_test, y_test) = tf.keras.datasets.mnist.load_data()\n",
        "(x_train, y_train), (x_test, y_test) = tf.keras.datasets.cifar100.load_data()\n",
        "x_train, x_test = x_train / 255.0, x_test / 255.0"
      ],
      "execution_count": 3,
      "outputs": [
        {
          "output_type": "stream",
          "text": [
            "Downloading data from https://www.cs.toronto.edu/~kriz/cifar-100-python.tar.gz\n",
            "169009152/169001437 [==============================] - 3s 0us/step\n"
          ],
          "name": "stdout"
        }
      ]
    },
    {
      "cell_type": "code",
      "metadata": {
        "id": "CYYdfOJ1Ueag",
        "colab_type": "code",
        "outputId": "baaac4dd-3a36-45eb-8ec0-b2371461b4b7",
        "colab": {
          "base_uri": "https://localhost:8080/",
          "height": 51
        }
      },
      "source": [
        "# x_dataset = np.concatenate((x_train, x_test)).reshape((x_train.shape[0] + x_test.shape[0], x_test.shape[1], x_test.shape[2],1))\n",
        "x_dataset = np.concatenate((x_train, x_test))\n",
        "y_dataset = np.concatenate((y_train, y_test))\n",
        "print(x_train.shape, x_test.shape, x_dataset.shape)\n",
        "print(y_train.shape, y_test.shape, y_dataset.shape)"
      ],
      "execution_count": 4,
      "outputs": [
        {
          "output_type": "stream",
          "text": [
            "(50000, 32, 32, 3) (10000, 32, 32, 3) (60000, 32, 32, 3)\n",
            "(50000, 1) (10000, 1) (60000, 1)\n"
          ],
          "name": "stdout"
        }
      ]
    },
    {
      "cell_type": "code",
      "metadata": {
        "id": "fZ_2ud1gPvX3",
        "colab_type": "code",
        "outputId": "38346c05-bb81-44fe-a896-1afda5d79c4f",
        "colab": {
          "base_uri": "https://localhost:8080/",
          "height": 119
        }
      },
      "source": [
        "new_y_dataset = np.zeros((y_dataset.shape[0], np.max(y_dataset) + 1), dtype=x_train.dtype)\n",
        "\n",
        "for i in range(0, y_dataset.shape[0]):\n",
        "    new_y_dataset[i][y_dataset[i]] = 1\n",
        "    \n",
        "print(y_dataset.shape, new_y_dataset.shape, y_dataset[0])\n",
        "print(new_y_dataset[0])"
      ],
      "execution_count": 5,
      "outputs": [
        {
          "output_type": "stream",
          "text": [
            "(60000, 1) (60000, 100) [19]\n",
            "[0. 0. 0. 0. 0. 0. 0. 0. 0. 0. 0. 0. 0. 0. 0. 0. 0. 0. 0. 1. 0. 0. 0. 0.\n",
            " 0. 0. 0. 0. 0. 0. 0. 0. 0. 0. 0. 0. 0. 0. 0. 0. 0. 0. 0. 0. 0. 0. 0. 0.\n",
            " 0. 0. 0. 0. 0. 0. 0. 0. 0. 0. 0. 0. 0. 0. 0. 0. 0. 0. 0. 0. 0. 0. 0. 0.\n",
            " 0. 0. 0. 0. 0. 0. 0. 0. 0. 0. 0. 0. 0. 0. 0. 0. 0. 0. 0. 0. 0. 0. 0. 0.\n",
            " 0. 0. 0. 0.]\n"
          ],
          "name": "stdout"
        }
      ]
    },
    {
      "cell_type": "code",
      "metadata": {
        "id": "TuG4jUkVVh_J",
        "colab_type": "code",
        "outputId": "9ca73f18-1f7a-4808-fa1c-1d67169641f2",
        "colab": {
          "base_uri": "https://localhost:8080/",
          "height": 51
        }
      },
      "source": [
        "split_x_dataset = np.split(x_dataset, 2)\n",
        "split_y_dataset = np.split(new_y_dataset, 2)\n",
        "\n",
        "x_training_half = split_x_dataset[0]\n",
        "y_training_half = split_y_dataset[0]\n",
        "\n",
        "x_testing_half = split_x_dataset[1]\n",
        "y_testing_half = split_y_dataset[1]\n",
        "\n",
        "print(x_training_half.shape, y_training_half.shape)\n",
        "print(x_testing_half.shape, y_testing_half.shape)"
      ],
      "execution_count": 6,
      "outputs": [
        {
          "output_type": "stream",
          "text": [
            "(30000, 32, 32, 3) (30000, 100)\n",
            "(30000, 32, 32, 3) (30000, 100)\n"
          ],
          "name": "stdout"
        }
      ]
    },
    {
      "cell_type": "code",
      "metadata": {
        "colab_type": "code",
        "id": "h3IKyzTCDNGo",
        "colab": {
          "base_uri": "https://localhost:8080/",
          "height": 391
        },
        "outputId": "eeda1ccb-2a33-450f-dec6-61ac46ae9ad2"
      },
      "source": [
        "model = tf.keras.models.Sequential([\n",
        "    tf.keras.layers.Conv2D(64, (3, 3), input_shape=(x_dataset.shape[1], x_dataset.shape[2], x_dataset.shape[3]), padding=\"same\"),\n",
        "    tf.keras.layers.Conv2D(64, (3, 3), padding=\"valid\"),\n",
        "    tf.keras.layers.MaxPooling2D(),\n",
        "    tf.keras.layers.Flatten(),\n",
        "    tf.keras.layers.Dense(512, activation='relu'),\n",
        "    tf.keras.layers.Dense(256, activation='relu'),\n",
        "    tf.keras.layers.Dense(new_y_dataset.shape[1], activation='softmax')\n",
        "])\n",
        "model.summary()\n",
        "\n",
        "model.compile(optimizer='adam', loss='categorical_crossentropy',metrics=['accuracy'])"
      ],
      "execution_count": 7,
      "outputs": [
        {
          "output_type": "stream",
          "text": [
            "Model: \"sequential\"\n",
            "_________________________________________________________________\n",
            "Layer (type)                 Output Shape              Param #   \n",
            "=================================================================\n",
            "conv2d (Conv2D)              (None, 32, 32, 64)        1792      \n",
            "_________________________________________________________________\n",
            "conv2d_1 (Conv2D)            (None, 30, 30, 64)        36928     \n",
            "_________________________________________________________________\n",
            "max_pooling2d (MaxPooling2D) (None, 15, 15, 64)        0         \n",
            "_________________________________________________________________\n",
            "flatten (Flatten)            (None, 14400)             0         \n",
            "_________________________________________________________________\n",
            "dense (Dense)                (None, 512)               7373312   \n",
            "_________________________________________________________________\n",
            "dense_1 (Dense)              (None, 256)               131328    \n",
            "_________________________________________________________________\n",
            "dense_2 (Dense)              (None, 100)               25700     \n",
            "=================================================================\n",
            "Total params: 7,569,060\n",
            "Trainable params: 7,569,060\n",
            "Non-trainable params: 0\n",
            "_________________________________________________________________\n"
          ],
          "name": "stdout"
        }
      ]
    },
    {
      "cell_type": "code",
      "metadata": {
        "colab_type": "code",
        "id": "F7dTAzgHDUh7",
        "outputId": "8de7917f-6156-41f4-bcae-3bbc9ab31d18",
        "colab": {
          "base_uri": "https://localhost:8080/",
          "height": 649
        }
      },
      "source": [
        "model.fit(x_training_half, y_training_half, epochs=15)"
      ],
      "execution_count": 8,
      "outputs": [
        {
          "output_type": "stream",
          "text": [
            "WARNING: Logging before flag parsing goes to stderr.\n",
            "W0718 15:03:04.625765 140524847171456 deprecation.py:323] From /usr/local/lib/python3.6/dist-packages/tensorflow/python/ops/math_grad.py:1250: add_dispatch_support.<locals>.wrapper (from tensorflow.python.ops.array_ops) is deprecated and will be removed in a future version.\n",
            "Instructions for updating:\n",
            "Use tf.where in 2.0, which has the same broadcast rule as np.where\n"
          ],
          "name": "stderr"
        },
        {
          "output_type": "stream",
          "text": [
            "Train on 30000 samples\n",
            "Epoch 1/15\n",
            "30000/30000 [==============================] - 10s 340us/sample - loss: 3.7628 - accuracy: 0.1344\n",
            "Epoch 2/15\n",
            "30000/30000 [==============================] - 6s 216us/sample - loss: 2.9105 - accuracy: 0.2783\n",
            "Epoch 3/15\n",
            "30000/30000 [==============================] - 6s 215us/sample - loss: 2.2258 - accuracy: 0.4156\n",
            "Epoch 4/15\n",
            "30000/30000 [==============================] - 7s 218us/sample - loss: 1.5626 - accuracy: 0.5668\n",
            "Epoch 5/15\n",
            "30000/30000 [==============================] - 6s 216us/sample - loss: 0.9830 - accuracy: 0.7128\n",
            "Epoch 6/15\n",
            "30000/30000 [==============================] - 6s 216us/sample - loss: 0.6427 - accuracy: 0.8112\n",
            "Epoch 7/15\n",
            "30000/30000 [==============================] - 6s 217us/sample - loss: 0.4903 - accuracy: 0.8533\n",
            "Epoch 8/15\n",
            "30000/30000 [==============================] - 6s 215us/sample - loss: 0.4307 - accuracy: 0.8697\n",
            "Epoch 9/15\n",
            "30000/30000 [==============================] - 7s 220us/sample - loss: 0.3821 - accuracy: 0.8870\n",
            "Epoch 10/15\n",
            "30000/30000 [==============================] - 6s 215us/sample - loss: 0.3491 - accuracy: 0.9003\n",
            "Epoch 11/15\n",
            "30000/30000 [==============================] - 6s 216us/sample - loss: 0.3228 - accuracy: 0.9084\n",
            "Epoch 12/15\n",
            "30000/30000 [==============================] - 6s 213us/sample - loss: 0.3364 - accuracy: 0.9037\n",
            "Epoch 13/15\n",
            "30000/30000 [==============================] - 6s 214us/sample - loss: 0.3121 - accuracy: 0.9141\n",
            "Epoch 14/15\n",
            "30000/30000 [==============================] - 6s 217us/sample - loss: 0.2963 - accuracy: 0.9163\n",
            "Epoch 15/15\n",
            "30000/30000 [==============================] - 6s 215us/sample - loss: 0.3155 - accuracy: 0.9144\n"
          ],
          "name": "stdout"
        },
        {
          "output_type": "execute_result",
          "data": {
            "text/plain": [
              "<tensorflow.python.keras.callbacks.History at 0x7fce13c08710>"
            ]
          },
          "metadata": {
            "tags": []
          },
          "execution_count": 8
        }
      ]
    },
    {
      "cell_type": "code",
      "metadata": {
        "id": "5TpMlWe-O8h8",
        "colab_type": "code",
        "outputId": "31659854-8f28-455d-e8fb-b25574dc0f5b",
        "colab": {
          "base_uri": "https://localhost:8080/",
          "height": 51
        }
      },
      "source": [
        "model.evaluate(x_testing_half, y_testing_half)"
      ],
      "execution_count": 9,
      "outputs": [
        {
          "output_type": "stream",
          "text": [
            "30000/30000 [==============================] - 3s 93us/sample - loss: 7.6860 - accuracy: 0.2626\n"
          ],
          "name": "stdout"
        },
        {
          "output_type": "execute_result",
          "data": {
            "text/plain": [
              "[7.685996899414063, 0.26263332]"
            ]
          },
          "metadata": {
            "tags": []
          },
          "execution_count": 9
        }
      ]
    },
    {
      "cell_type": "code",
      "metadata": {
        "id": "ihVmiq4gcMFb",
        "colab_type": "code",
        "colab": {}
      },
      "source": [
        "predict_train = model.predict(x_training_half)\n",
        "predict_test = model.predict(x_testing_half)"
      ],
      "execution_count": 0,
      "outputs": []
    },
    {
      "cell_type": "code",
      "metadata": {
        "id": "o2d7XqbJeRgo",
        "colab_type": "code",
        "outputId": "b63e702d-70bf-4f4e-e8b9-a562dd05ecff",
        "colab": {
          "base_uri": "https://localhost:8080/",
          "height": 34
        }
      },
      "source": [
        "c = 0\n",
        "for i in range(0, len(x_training_half)):\n",
        "    if np.argmax(predict_train[i]) == np.argmax(y_training_half[i]):\n",
        "        c += 1\n",
        "print(c * 100 / len(x_training_half))"
      ],
      "execution_count": 11,
      "outputs": [
        {
          "output_type": "stream",
          "text": [
            "93.74666666666667\n"
          ],
          "name": "stdout"
        }
      ]
    },
    {
      "cell_type": "code",
      "metadata": {
        "id": "BbwsRetFcMzT",
        "colab_type": "code",
        "outputId": "3f885fb3-90bb-43df-a30d-363af58bce4e",
        "colab": {
          "base_uri": "https://localhost:8080/",
          "height": 34
        }
      },
      "source": [
        "c = 0\n",
        "for i in range(0, len(x_testing_half)):\n",
        "    if np.argmax(predict_train[i]) == np.argmax(y_testing_half[i]):\n",
        "        c += 1\n",
        "print(c * 100 / len(x_testing_half))"
      ],
      "execution_count": 12,
      "outputs": [
        {
          "output_type": "stream",
          "text": [
            "1.0533333333333332\n"
          ],
          "name": "stdout"
        }
      ]
    },
    {
      "cell_type": "code",
      "metadata": {
        "id": "qGJDFkg7cTSF",
        "colab_type": "code",
        "colab": {}
      },
      "source": [
        ""
      ],
      "execution_count": 0,
      "outputs": []
    }
  ]
}